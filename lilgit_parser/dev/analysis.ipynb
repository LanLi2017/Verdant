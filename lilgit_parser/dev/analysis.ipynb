{
 "cells": [
  {
   "cell_type": "markdown",
   "metadata": {},
   "source": [
    "# Match API\n",
    "Ok, it would really help if we had a named structure for `a` and `b` so that we can more easily make recommendations on matching. Ideally we'll just return a JSON of recommendations, like a list of node names with the changed attributes. That's it:\n",
    "\n",
    "```\n",
    "[\n",
    "{ node: c.34, content: [...], start ... }, <=== this one's changed\n",
    "{ node: s.14, literal: ... }, <=== this one's changed\n",
    "{ new: True, node: s.2, literal: ... },   <=== this one's new\n",
    "]\n",
    "```\n",
    "\n",
    "### Stage 0: ??? muck around with setup\n",
    "Put all the nodes from a and from b into a dictionary by node name, just like we do in the database. This will make the matching a lot easier so we don't have to constantly be crawling json and stuff.\n",
    "\n",
    "### Stage 1: isolate what has changed from `a` to `b`\n",
    " - goal: diff `a` and `b` and figure out the smallest parts of `b` that are changed \n",
    " - match everything in `a` and `b` that has not changed, sort out changed bits of `b` and unmatched bits of `a` \n",
    " \n",
    "### Stage 2: make a list of nodes in `b`\n",
    " - initially assume that all different nodes in `b` are new\n",
    " - make a list of candidate nodes from `a` for matching\n"
   ]
  },
  {
   "cell_type": "code",
   "execution_count": 153,
   "metadata": {},
   "outputs": [],
   "source": [
    "import difflib\n",
    "import lilgit_parser as lilgit\n",
    "\n",
    "# a is old, b is new\n",
    "\n",
    "a = '''for i in range(0,10):\n",
    "    if i % 2 == 0:\n",
    "        print(i + 9)'''\n",
    "b = '''for i in range(0,10):\n",
    "        print(i + 6)'''"
   ]
  },
  {
   "cell_type": "code",
   "execution_count": 154,
   "metadata": {},
   "outputs": [],
   "source": [
    "def nodeToDict(node, dic, prefix = \"\", parent = None):\n",
    "    name = \"\"\n",
    "    if 'name' in node:\n",
    "        name = node['name']\n",
    "    else: name = prefix + str(len(dic))\n",
    "    \n",
    "    dic[name] = node\n",
    "    if parent:\n",
    "        node['parent'] = parent\n",
    "    if 'content' in node:\n",
    "        node['content'] = list(map(lambda x: nodeToDict(x, dic, prefix, name), node['content']))\n",
    "    \n",
    "    return name"
   ]
  },
  {
   "cell_type": "code",
   "execution_count": 155,
   "metadata": {},
   "outputs": [
    {
     "data": {
      "text/plain": [
       "'b.0'"
      ]
     },
     "execution_count": 155,
     "metadata": {},
     "output_type": "execute_result"
    }
   ],
   "source": [
    "# AST parse from string\n",
    "A = lilgit.parse(a)\n",
    "B = lilgit.parse(b)\n",
    "\n",
    "# dictionary of nodes from AST\n",
    "dic_a = {}\n",
    "dic_b = {}\n",
    "nodeToDict(A, dic_a, \"a.\")\n",
    "nodeToDict(B, dic_b, \"b.\")"
   ]
  },
  {
   "cell_type": "code",
   "execution_count": 156,
   "metadata": {},
   "outputs": [
    {
     "name": "stdout",
     "output_type": "stream",
     "text": [
      "for i in range(0,10):\n",
      "    if i % 2 == 0:\n",
      "        print(i + 9)\n",
      "\n",
      "############################\n",
      "\n",
      "for i in range(0,10):\n",
      "        print(i + 6)\n"
     ]
    }
   ],
   "source": [
    "# identify literals\n",
    "literal_a = []\n",
    "tokens_a = []\n",
    "literal_b = []\n",
    "tokens_b = []\n",
    "\n",
    "def listLiterals(lst, dic, tok_list):\n",
    "    for key in dic:\n",
    "        if 'literal' in dic[key] and dic[key]['literal']:\n",
    "            lst.append(key)\n",
    "            tok_list.append(dic[key]['literal'])\n",
    "        elif 'syntok' in dic[key]:\n",
    "            lst.append(key)\n",
    "            tok_list.append(dic[key]['syntok'])\n",
    "        \n",
    "def printLiterals(lst, dic):\n",
    "    content = ''\n",
    "    for name in lst:\n",
    "        item = dic[name]\n",
    "        if 'literal' in item: content += item['literal']\n",
    "        else: content += item['syntok']\n",
    "    print(content)\n",
    "    \n",
    "listLiterals(literal_a, dic_a, tokens_a)\n",
    "listLiterals(literal_b, dic_b, tokens_b)\n",
    "printLiterals(literal_a, dic_a)     \n",
    "print(\"\\n############################\\n\")\n",
    "printLiterals(literal_b, dic_b)      "
   ]
  },
  {
   "cell_type": "code",
   "execution_count": 162,
   "metadata": {},
   "outputs": [],
   "source": [
    "'''\n",
    "Identify matching sequences in tokens a and b\n",
    "'''\n",
    "from difflib import SequenceMatcher\n",
    "s = SequenceMatcher(None, tokens_a, tokens_b)\n",
    "matchList = s.get_matching_blocks()\n",
    "\n",
    "for match in matchList:\n",
    "    (a_start, b_start, count) = match\n",
    "    for i in range(0, count):\n",
    "        name_a = literal_a[a_start + i]\n",
    "        name_b = literal_b[b_start + i]\n",
    "        node_a = dic_a[name_a]\n",
    "        node_b = dic_b[name_b]\n",
    "        node_a['match'] = name_b\n",
    "        node_b['match'] = name_a"
   ]
  },
  {
   "cell_type": "code",
   "execution_count": null,
   "metadata": {},
   "outputs": [],
   "source": [
    "'''\n",
    "Run matches up the hierchy where possible\n",
    "'''\n",
    "for name in literals:\n",
    "        if 'match' in dic[name]:\n",
    "            "
   ]
  },
  {
   "cell_type": "code",
   "execution_count": 158,
   "metadata": {},
   "outputs": [
    {
     "name": "stdout",
     "output_type": "stream",
     "text": [
      "if i % 2 == 0:\n",
      "    9\n",
      "\n",
      "############################\n",
      "\n",
      "6\n"
     ]
    }
   ],
   "source": [
    "'''\n",
    "Put all unmatch literals in a bucket.\n",
    "'''\n",
    "\n",
    "def listUnmatched(literals, dic):\n",
    "    unmatched = []\n",
    "    tokens = []\n",
    "    for name in literals:\n",
    "        if 'match' not in dic[name]:\n",
    "            unmatched.append(name)\n",
    "            node = dic[name]\n",
    "            tok = node['syntok'] if 'syntok' in node else node['literal']\n",
    "            tokens.append(tok)\n",
    "    return unmatched, tokens\n",
    "\n",
    "unmatched_a, tokens_a = listUnmatched(literal_a, dic_a)\n",
    "unmatched_b, tokens_b = listUnmatched(literal_b, dic_b)\n",
    "printLiterals(unmatched_a, dic_a)     \n",
    "print(\"\\n############################\\n\")\n",
    "printLiterals(unmatched_b, dic_b)"
   ]
  },
  {
   "cell_type": "code",
   "execution_count": 159,
   "metadata": {},
   "outputs": [
    {
     "data": {
      "text/plain": [
       "'\\nAssume all new tokens in B are new. Try to match them.\\n'"
      ]
     },
     "execution_count": 159,
     "metadata": {},
     "output_type": "execute_result"
    }
   ],
   "source": [
    "'''\n",
    "Assume all new tokens in B are new. Try to match them.\n",
    "'''\n"
   ]
  },
  {
   "cell_type": "code",
   "execution_count": 160,
   "metadata": {},
   "outputs": [
    {
     "data": {
      "text/plain": [
       "[{'type': 'Num',\n",
       "  'content': [],\n",
       "  'literal': '6',\n",
       "  'start': {'pos': 40, 'line': 1, 'ch': 18},\n",
       "  'end': {'line': 1, 'ch': 19, 'pos': 41},\n",
       "  'parent': 'b.32',\n",
       "  'new': True},\n",
       " {'type': 'BinOp',\n",
       "  'content': ['b.33', 'b.35', 'b.36', 'b.38', 'b.39'],\n",
       "  'literal': None,\n",
       "  'start': {'pos': 36, 'line': 1, 'ch': 14},\n",
       "  'end': {'line': 1, 'ch': 19, 'pos': 41},\n",
       "  'parent': 'b.28',\n",
       "  'new': True},\n",
       " {'type': 'Call',\n",
       "  'content': ['b.29', 'b.31', 'b.32', 'b.40'],\n",
       "  'literal': None,\n",
       "  'start': {'pos': 30, 'line': 1, 'ch': 8},\n",
       "  'end': {'line': 1, 'ch': 19, 'pos': 42},\n",
       "  'parent': 'b.27',\n",
       "  'new': True},\n",
       " {'type': 'Expr',\n",
       "  'content': ['b.28'],\n",
       "  'literal': None,\n",
       "  'start': {'pos': 30, 'line': 1, 'ch': 8},\n",
       "  'end': {'line': 1, 'ch': 19, 'pos': 42},\n",
       "  'parent': 'b.1',\n",
       "  'new': True},\n",
       " {'type': 'For',\n",
       "  'content': ['b.2',\n",
       "   'b.3',\n",
       "   'b.4',\n",
       "   'b.6',\n",
       "   'b.7',\n",
       "   'b.8',\n",
       "   'b.9',\n",
       "   'b.17',\n",
       "   'b.18',\n",
       "   'b.19',\n",
       "   'b.20',\n",
       "   'b.21',\n",
       "   'b.22',\n",
       "   'b.23',\n",
       "   'b.24',\n",
       "   'b.25',\n",
       "   'b.26',\n",
       "   'b.27'],\n",
       "  'literal': None,\n",
       "  'start': {'pos': 0, 'line': 0, 'ch': 0},\n",
       "  'end': {'line': 1, 'ch': 19, 'pos': 42},\n",
       "  'parent': 'b.0',\n",
       "  'new': True},\n",
       " {'type': 'Module',\n",
       "  'content': ['b.1'],\n",
       "  'literal': None,\n",
       "  'start': {'line': 0, 'ch': 0, 'pos': 0},\n",
       "  'end': {'line': 1, 'ch': 19, 'pos': 42},\n",
       "  'new': True}]"
      ]
     },
     "execution_count": 160,
     "metadata": {},
     "output_type": "execute_result"
    }
   ],
   "source": [
    "'''\n",
    "Finalize the recommendation\n",
    "'''\n",
    "changes = []\n",
    "\n",
    "def finalizeMatches(node, dic):\n",
    "    if 'match' in node:\n",
    "        node['name'] = 'TODO'\n",
    "    else:\n",
    "        node['new'] = True\n",
    "        changes.append(node)\n",
    "    if 'parent' in node:\n",
    "        finalizeMatches(dic[node['parent']], dic)\n",
    "        \n",
    "for name in unmatched_b:\n",
    "    node = dic_b[name]\n",
    "    finalizeMatches(node, dic_b)  \n",
    "    \n",
    "changes"
   ]
  }
 ],
 "metadata": {
  "kernelspec": {
   "display_name": "Python 3",
   "language": "python",
   "name": "python3"
  },
  "language_info": {
   "codemirror_mode": {
    "name": "ipython",
    "version": 3
   },
   "file_extension": ".py",
   "mimetype": "text/x-python",
   "name": "python",
   "nbconvert_exporter": "python",
   "pygments_lexer": "ipython3",
   "version": "3.6.5"
  }
 },
 "nbformat": 4,
 "nbformat_minor": 2
}
