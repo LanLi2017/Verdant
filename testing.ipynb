{
 "cells": [
  {
   "cell_type": "code",
   "execution_count": 1,
   "metadata": {},
   "outputs": [],
   "source": [
    "import sys\n",
    "import ast\n",
    "from ast import AST\n",
    "import tokenize\n",
    "from numbers import Number\n",
    "import json"
   ]
  },
  {
   "cell_type": "code",
   "execution_count": 2,
   "metadata": {},
   "outputs": [],
   "source": [
    "code = sys.argv[0]\n",
    "tree = ast.parse(\"print('hello world')\")"
   ]
  },
  {
   "cell_type": "code",
   "execution_count": 3,
   "metadata": {},
   "outputs": [
    {
     "name": "stdout",
     "output_type": "stream",
     "text": [
      "Module([Expr(Call(Name('print', Load()), [Str('hello world')], []))])\n"
     ]
    }
   ],
   "source": [
    "print(ast.dump(tree, False, False))"
   ]
  },
  {
   "cell_type": "code",
   "execution_count": 109,
   "metadata": {},
   "outputs": [],
   "source": [
    "def makeNodey(node):\n",
    "    jsn = {'type': type(node).__name__, 'node_uid': 0, 'content': []}\n",
    "    \n",
    "    if(hasattr(node, 'lineno')): #meaning it's a node that appears in the text\n",
    "        jsn['line'] = node.lineno\n",
    "        jsn['col'] = node.col_offset\n",
    "\n",
    "    for field, value in ast.iter_fields(node):\n",
    "        if(isinstance(value, str) or isinstance(value, Number)):\n",
    "            jsn['literal'] = value\n",
    "\n",
    "    for child in ast.iter_child_nodes(node):\n",
    "        c = makeNodey(child)\n",
    "        if(c and jsn):\n",
    "            jsn['content'].append(c)\n",
    "    \n",
    "    if(len(jsn['content']) > 0 or 'literal' in jsn):\n",
    "        return jsn\n",
    "\n",
    "\n",
    "    "
   ]
  },
  {
   "cell_type": "code",
   "execution_count": 111,
   "metadata": {},
   "outputs": [],
   "source": [
    "jsn = makeNodey(tree)"
   ]
  },
  {
   "cell_type": "code",
   "execution_count": 116,
   "metadata": {},
   "outputs": [
    {
     "name": "stdout",
     "output_type": "stream",
     "text": [
      "{\"type\": \"Module\", \"node_uid\": 0, \"content\": [{\"type\": \"Expr\", \"node_uid\": 0, \"content\": [{\"type\": \"Call\", \"node_uid\": 0, \"content\": [{\"type\": \"Name\", \"node_uid\": 0, \"content\": [], \"line\": 1, \"col\": 0, \"literal\": \"print\"}, {\"type\": \"Str\", \"node_uid\": 0, \"content\": [], \"line\": 1, \"col\": 6, \"literal\": \"hello world\"}], \"line\": 1, \"col\": 0}], \"line\": 1, \"col\": 0}]}\n"
     ]
    }
   ],
   "source": [
    "print(json.dumps(jsn))"
   ]
  },
  {
   "cell_type": "code",
   "execution_count": null,
   "metadata": {},
   "outputs": [],
   "source": []
  }
 ],
 "metadata": {
  "kernelspec": {
   "display_name": "Python 3",
   "language": "python",
   "name": "python3"
  },
  "language_info": {
   "codemirror_mode": {
    "name": "ipython",
    "version": 3
   },
   "file_extension": ".py",
   "mimetype": "text/x-python",
   "name": "python",
   "nbconvert_exporter": "python",
   "pygments_lexer": "ipython3",
   "version": "3.6.5"
  }
 },
 "nbformat": 4,
 "nbformat_minor": 2
}
