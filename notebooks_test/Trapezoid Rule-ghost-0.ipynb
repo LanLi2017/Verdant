{
  "cells": [
    {
      "metadata": {},
      "source": [
        "# Basic Numerical Integration: the Trapezoid Rulez"
      ],
      "cell_type": "markdown"
    },
    {
      "metadata": {},
      "source": [
        "A simple illustration of the trapezoid rule for definite integration:",
        "",
        "$$",
        "\\int_{a}^{b} f(x)\\, dx \\approx \\frac{1}{2} \\sum_{k=1}^{N} \\left( x_{k} - x_{k-1} \\right) \\left( f(x_{k}) + f(x_{k-1}) \\right).",
        "$$",
        "<br>",
        "First, we define a simple function and sample it between 0 and 10 at 200 points"
      ],
      "cell_type": "markdown"
    },
    {
      "metadata": {},
      "source": [
        "Choose a region to integrate over and take only a few points in that region"
      ],
      "cell_type": "markdown"
    },
    {
      "metadata": {},
      "source": [
        "Plot both the function and the area below it in the trapezoid approximation"
      ],
      "cell_type": "markdown"
    },
    {
      "metadata": {},
      "source": [
        "Compute the integral both at high accuracy and with the trapezoid approximation"
      ],
      "cell_type": "markdown"
    },
    {
      "metadata": {},
      "source": [
        "#%matplotlib inline",
        "import numpy as np",
        "import matplotlib.pyplot as plt "
      ],
      "cell_type": "code",
      "executionCount": 0,
      "outputs": []
    },
    {
      "metadata": {},
      "source": [
        "def f(x):",
        "    return (x-3)*(x-5)*(x-7)+85",
        "x=np.linspace(0,10,200)",
        "y=f(x)"
      ],
      "cell_type": "code",
      "executionCount": 0,
      "outputs": []
    },
    {
      "metadata": {},
      "source": [
        "a,b=1,9 # the left and right boundaries",
        "N=5 # the number of points",
        "xint=np.linspace(a,b,N)",
        "yint=f(xint)",
        "print(\"foo\")"
      ],
      "cell_type": "code",
      "executionCount": 0,
      "outputs": []
    },
    {
      "metadata": {},
      "source": [
        "plt.plot(x,y,lw=2)",
        "plt.axis([0,9,0,140])",
        "plt.fill_between(xint,0,yint,facecolor='red',alpha=0.4)",
        "plt.text(0.5*(a+b),30,r\"$\\int_a^b f(x)dx$\",horizontalalignment='center',fontsize=20);"
      ],
      "cell_type": "code",
      "executionCount": 0,
      "outputs": []
    },
    {
      "metadata": {},
      "source": [
        "from __future__ import print_function",
        "from scipy.integrate import quad",
        "integral,error=quad(f,a9,b)",
        "integral_trapezoid=sum((xint[1:]-xint[:-1])*(yint[1:]+yint[:-1]))/2",
        "print(\"The integral is:\",integral,\"+/-\",errort)",
        "print(\"The trapezoid approximation with\",len(xint),\"points is:\",integral_trapezoid)"
      ],
      "cell_type": "code",
      "executionCount": 0,
      "outputs": []
    }
  ],
  "metadata": {
    "kernelspec": {
      "display_name": "Python 3",
      "language": "python",
      "name": "python3"
    },
    "language_info": {
      "codemirror_mode": {
        "name": "ipython",
        "version": 3
      },
      "file_extension": ".py",
      "mimetype": "text/x-python",
      "name": "python",
      "nbconvert_exporter": "python",
      "pygments_lexer": "ipython3",
      "version": "3.6.5"
    }
  },
  "nbformat_minor": 2,
  "nbformat": 4
}